{
 "cells": [
  {
   "cell_type": "code",
   "execution_count": 1,
   "id": "9323e437",
   "metadata": {},
   "outputs": [],
   "source": [
    "from src.preprocess import preprocess_h5ad"
   ]
  },
  {
   "cell_type": "code",
   "execution_count": null,
   "id": "ac9057ac",
   "metadata": {},
   "outputs": [
    {
     "name": "stdout",
     "output_type": "stream",
     "text": [
      "📥 Caricamento: lung_selected.h5ad\n",
      "💾 Salvataggio in formato CSV: lung_selected_processed.csv\n"
     ]
    }
   ],
   "source": [
    "input_path = 'lung_selected.h5ad'\n",
    "gene_list_path = '/data2/home/vcivale/scTumorClassification2/model/scFoundation/OS_scRNA_gene_index.19264.tsv'\n",
    "output_path = 'lung_selected_processed.csv'\n",
    "output_format = 'csv'\n",
    "demo = False\n",
    "\n",
    "preprocess_h5ad(input_path, gene_list_path, output_path, output_format, demo)"
   ]
  },
  {
   "cell_type": "code",
   "execution_count": null,
   "id": "1bf67ee4",
   "metadata": {},
   "outputs": [],
   "source": [
    "import scipy.sparse as sp\n",
    "\n",
    "matrix = sp.load_npz(\"dataset/lung_processed.npz\")"
   ]
  },
  {
   "cell_type": "code",
   "execution_count": null,
   "id": "837f0756",
   "metadata": {},
   "outputs": [],
   "source": [
    "from src.preprocess import is_normalized\n",
    "is_norm = is_normalized(matrix)\n",
    "\n",
    "if is_norm:\n",
    "    print(\"✅ I dati nel file NPZ sembrano normalizzati.\")\n",
    "else:\n",
    "    print(\"❌ I dati nel file NPZ NON sembrano normalizzati.\")"
   ]
  }
 ],
 "metadata": {
  "kernelspec": {
   "display_name": ".venv",
   "language": "python",
   "name": "python3"
  },
  "language_info": {
   "codemirror_mode": {
    "name": "ipython",
    "version": 3
   },
   "file_extension": ".py",
   "mimetype": "text/x-python",
   "name": "python",
   "nbconvert_exporter": "python",
   "pygments_lexer": "ipython3",
   "version": "3.9.7"
  }
 },
 "nbformat": 4,
 "nbformat_minor": 5
}
